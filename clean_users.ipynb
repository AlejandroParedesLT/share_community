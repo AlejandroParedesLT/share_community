{
 "cells": [
  {
   "cell_type": "code",
   "execution_count": null,
   "id": "e3809464",
   "metadata": {},
   "outputs": [],
   "source": [
    "import pandas as pd\n",
    "import re\n",
    "\n",
    "pd.set_option(\"display.max_rows\", None)\n",
    "pd.set_option(\"display.max_columns\", None)"
   ]
  },
  {
   "cell_type": "code",
   "execution_count": null,
   "id": "d8ec6351",
   "metadata": {},
   "outputs": [],
   "source": [
    "ratingsFile = \"./ml-100k-csv/merged_ratings.csv\"\n",
    "ratings1 = pd.read_csv(ratingsFile)\n",
    "\n",
    "ratings2 = ratings1[[\"user_id\", \"movie_id\", \"rating\", \"title\"]]"
   ]
  },
  {
   "cell_type": "code",
   "execution_count": null,
   "id": "d61935fe",
   "metadata": {},
   "outputs": [],
   "source": [
    "print(ratings2.head())"
   ]
  },
  {
   "cell_type": "code",
   "execution_count": null,
   "id": "61ed1bc1",
   "metadata": {},
   "outputs": [],
   "source": [
    "def separate_title_year(df, title_column=\"title\"):\n",
    "    \"\"\"\n",
    "    Separates the year from movie titles in a DataFrame.\n",
    "\n",
    "    Parameters:\n",
    "    df (DataFrame): DataFrame containing movie data\n",
    "    title_column (str): Name of the column containing movie titles with years\n",
    "\n",
    "    Returns:\n",
    "    DataFrame: DataFrame with separate title and year columns\n",
    "    \"\"\"\n",
    "    # Create a copy of the DataFrame to avoid modifying the original\n",
    "    result_df = df.copy()\n",
    "\n",
    "    # Function to extract year from title\n",
    "    def extract_year(title):\n",
    "        # Look for a 4-digit number in parentheses at the end of the string\n",
    "        year_match = re.search(r\"\\((\\d{4})\\)$\", title)\n",
    "        if year_match:\n",
    "            # Extract the year (without parentheses)\n",
    "            return int(year_match.group(1))\n",
    "        else:\n",
    "            return None\n",
    "\n",
    "    # Function to clean title by removing the year in parentheses\n",
    "    def clean_title(title):\n",
    "        # Remove the year in parentheses at the end\n",
    "        return re.sub(r\"\\s*\\(\\d{4}\\)$\", \"\", title).strip()\n",
    "\n",
    "    # Apply the extraction functions to create new columns\n",
    "    result_df[\"movie_year\"] = result_df[title_column].apply(extract_year)\n",
    "    result_df[\"movie_title\"] = result_df[title_column].apply(clean_title)\n",
    "\n",
    "    return result_df\n",
    "\n",
    "\n",
    "# Process the sample DataFrame\n",
    "clean_ratings = separate_title_year(ratings2)\n",
    "ratings = clean_ratings[[\"user_id\", \"movie_id\", \"movie_title\", \"movie_year\", \"rating\"]]\n",
    "ratings = ratings.sort_values(by=\"user_id\", axis=0, inplace=False)\n",
    "\n",
    "# Function to reformat movie titles\n",
    "ratings[\"movie_title\"] = ratings[\"movie_title\"].str.replace(\n",
    "    r\"^(.*), (The|A|An|La|Le|Les|El|Los|Las|Der|Die|Das|Une|Un|Una|Uno)$\",\n",
    "    r\"\\2 \\1\",\n",
    "    regex=True,\n",
    ")\n",
    "\n",
    "\n",
    "# Display the result with the new columns\n",
    "print(ratings.head())"
   ]
  },
  {
   "cell_type": "markdown",
   "id": "3fd3ba59",
   "metadata": {},
   "source": [
    "# Working with movie_records.ipynb AND this user data"
   ]
  },
  {
   "cell_type": "code",
   "execution_count": null,
   "id": "c31b825d",
   "metadata": {},
   "outputs": [],
   "source": [
    "movies = pd.read_csv(\n",
    "    \"/Users/nakiyahdhariwala/share_community/large_files/movie_records.csv\",\n",
    "    dtype={\"theme\": str},\n",
    ")\n",
    "\n",
    "print(movies.head())"
   ]
  },
  {
   "cell_type": "code",
   "execution_count": null,
   "id": "6bfa2ff5",
   "metadata": {},
   "outputs": [],
   "source": [
    "# Create a function to standardize titles\n",
    "def standardize_title(title):\n",
    "    if isinstance(title, str):\n",
    "        # Convert to lowercase\n",
    "        title = title.lower()\n",
    "        # Remove special characters and extra spaces\n",
    "        import re\n",
    "\n",
    "        title = re.sub(\n",
    "            r\"[^\\w\\s]\", \"\", title\n",
    "        )  # Remove non-alphanumeric characters except spaces\n",
    "        title = re.sub(\n",
    "            r\"\\s+\", \" \", title\n",
    "        )  # Replace multiple spaces with a single space\n",
    "        title = title.strip()  # Remove leading/trailing spaces\n",
    "    return title\n",
    "\n",
    "\n",
    "# Apply the standardization to both dataframes\n",
    "movies[\"movie_name\"] = movies[\"name\"].apply(standardize_title)\n",
    "ratings[\"movie_name\"] = ratings[\"movie_title\"].apply(standardize_title)\n",
    "\n",
    "# Now merge on the standardized titles\n",
    "df_inner = pd.merge(movies, ratings, on=\"movie_name\", how=\"inner\")\n",
    "df_outer = pd.merge(movies, ratings, on=\"movie_name\", how=\"outer\")\n",
    "df_left = pd.merge(movies, ratings, on=\"movie_name\", how=\"inner\")\n",
    "df_right = pd.merge(movies, ratings, on=\"movie_name\", how=\"inner\")\n",
    "\n",
    "# For simplicity, I am choosing to keep the inner join"
   ]
  },
  {
   "cell_type": "code",
   "execution_count": null,
   "id": "0aedeaf1",
   "metadata": {},
   "outputs": [],
   "source": [
    "print(df_inner.head())"
   ]
  },
  {
   "cell_type": "code",
   "execution_count": null,
   "id": "d6f5c430",
   "metadata": {},
   "outputs": [],
   "source": [
    "print(df_inner.columns)\n",
    "\n",
    "final_df = df_inner[\n",
    "    [\"user_id\", \"id\", \"name\", \"date\", \"description\", \"genre\", \"theme\", \"rating\"]\n",
    "]\n",
    "print(final_df.head())"
   ]
  },
  {
   "cell_type": "code",
   "execution_count": null,
   "id": "579d2660",
   "metadata": {},
   "outputs": [],
   "source": [
    "final_df.to_csv(\"Movie_users.csv\", index=False)"
   ]
  },
  {
   "cell_type": "code",
   "execution_count": null,
   "id": "6dc2b70c",
   "metadata": {},
   "outputs": [],
   "source": [
    "print(df_inner[df_inner[\"user_id\"] == 798])"
   ]
  }
 ],
 "metadata": {
  "kernelspec": {
   "display_name": "Python 3",
   "language": "python",
   "name": "python3"
  },
  "language_info": {
   "codemirror_mode": {
    "name": "ipython",
    "version": 3
   },
   "file_extension": ".py",
   "mimetype": "text/x-python",
   "name": "python",
   "nbconvert_exporter": "python",
   "pygments_lexer": "ipython3",
   "version": "3.12.7"
  }
 },
 "nbformat": 4,
 "nbformat_minor": 5
}
