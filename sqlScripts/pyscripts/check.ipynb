{
 "cells": [
  {
   "cell_type": "code",
   "execution_count": null,
   "id": "de66282e",
   "metadata": {},
   "outputs": [],
   "source": [
    "import pandas as pd\n",
    "\n",
    "movies = pd.read_csv(\"/home/nd191/share_community/load_database/shortened_movie_records.csv\")\n",
    "print(movies.head())\n",
    "print(len(movies))"
   ]
  },
  {
   "cell_type": "code",
   "execution_count": null,
   "id": "9b079c64",
   "metadata": {},
   "outputs": [],
   "source": [
    "\n",
    "\n",
    "print('\\n')\n",
    "\n",
    "books = pd.read_csv(\"/home/nd191/share_community/load_database/final_books_for_db (1).csv\")\n",
    "print(books)\n",
    "print(len(books))\n",
    "\n"
   ]
  },
  {
   "cell_type": "code",
   "execution_count": null,
   "id": "2f6b9e08",
   "metadata": {},
   "outputs": [],
   "source": [
    "audio = pd.read_csv(\"sqlScripts/pyscripts/spotify_dataset_condensed.csv\")\n",
    "\n",
    "unique_ids = audio['original_id'].nunique()\n",
    "\n",
    "\n",
    "print(len(audio))"
   ]
  }
 ],
 "metadata": {
  "kernelspec": {
   "display_name": "Python 3",
   "language": "python",
   "name": "python3"
  },
  "language_info": {
   "name": "python",
   "version": "3.10.12"
  }
 },
 "nbformat": 4,
 "nbformat_minor": 5
}
